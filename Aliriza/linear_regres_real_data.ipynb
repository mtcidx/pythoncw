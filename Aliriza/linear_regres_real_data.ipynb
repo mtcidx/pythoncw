{
 "cells": [
  {
   "cell_type": "code",
   "execution_count": 1,
   "metadata": {},
   "outputs": [],
   "source": [
    "import csv\n",
    "import numpy as np\n",
    "from sklearn import linear_model\n",
    "import matplotlib.pyplot as plt\n"
   ]
  },
  {
   "cell_type": "code",
   "execution_count": 11,
   "metadata": {},
   "outputs": [],
   "source": [
    "dates = [] #x\n",
    "prices = [] #y"
   ]
  },
  {
   "cell_type": "code",
   "execution_count": 12,
   "metadata": {},
   "outputs": [],
   "source": [
    "#1 data acqusition\n",
    "def get_data(filename):\n",
    "\twith open(filename,'r') as csvfile:\n",
    "\t\tcsvFileReader = csv.reader(csvfile)\n",
    "\t\tnext(csvFileReader) #skipping column names\n",
    "\t\tfor row in csvFileReader:\n",
    "\t\t\tdates.append(int(row[0]))\n",
    "\t\t\tprices.append(float(row[1]))\n",
    "\treturn"
   ]
  },
  {
   "cell_type": "code",
   "execution_count": 13,
   "metadata": {},
   "outputs": [],
   "source": [
    "#create model\n",
    "def show_plot(dates,prices):\n",
    "    linear_mod = linear_model.LinearRegression()\n",
    "    dates = np.reshape(dates,(len(dates),1)) # converting to matrix of n X 1\n",
    "    prices = np.reshape(prices,(len(prices),1))\n",
    "    linear_mod.fit(dates,prices) #fitting the data points in the model\n",
    "    plt.scatter(dates,prices,color='yellow') #plotting the initial datapoints\n",
    "    plt.plot(dates,linear_mod.predict(dates),color='blue',linewidth=3) #plotting the line made by linear regression\n",
    "    plt.show()\n",
    "    return"
   ]
  },
  {
   "cell_type": "code",
   "execution_count": 14,
   "metadata": {},
   "outputs": [],
   "source": [
    "def predict_price(dates,prices,x):\n",
    "    linear_mod = linear_model.LinearRegression() #defining the linear regression model\n",
    "    dates = np.reshape(dates,(len(dates),1)) # converting to matrix of n X 1\n",
    "    prices = np.reshape(prices,(len(prices),1))\n",
    "    linear_mod.fit(dates,prices) #fitting the data points in the model\n",
    "    predicted_price =linear_mod.predict(x)\n",
    "    return predicted_price[0][0],linear_mod.coef_[0][0] ,linear_mod.intercept_[0]"
   ]
  },
  {
   "cell_type": "code",
   "execution_count": 15,
   "metadata": {},
   "outputs": [
    {
     "name": "stdout",
     "output_type": "stream",
     "text": [
      "[23, 19, 12, 5, 28, 21, 14, 7, 31, 24, 17, 10, 3, 26, 18, 12, 5, 29, 22, 15, 8, 1, 22, 15, 8, 1, 25, 18, 11, 4]\n",
      "[137.41, 139.44, 136.4, 136.63, 137.0, 132.63, 132.4, 123.85, 126.98, 126.52, 124.11, 126.39, 129.9, 122.62, 120.94, 119.81, 118.95, 116.56, 116.17, 110.99, 113.02, 111.76, 107.79, 106.2, 102.87, 106.26, 106.75, 101.9, 101.64, 101.29]\n",
      "\n",
      "\n"
     ]
    }
   ],
   "source": [
    "get_data('msft.csv') # calling get_data method by passing the csv file to it\n",
    "print(dates)\n",
    "print(prices)\n",
    "print (\"\\n\")"
   ]
  },
  {
   "cell_type": "code",
   "execution_count": 16,
   "metadata": {},
   "outputs": [
    {
     "data": {
      "image/png": "[encoded data removed]",
      "text/plain": [
       "<Figure size 432x288 with 1 Axes>"
      ]
     },
     "metadata": {
      "needs_background": "light"
     },
     "output_type": "display_data"
    }
   ],
   "source": [
    "show_plot(dates,prices)"
   ]
  },
  {
   "cell_type": "code",
   "execution_count": 18,
   "metadata": {},
   "outputs": [
    {
     "name": "stdout",
     "output_type": "stream",
     "text": [
      "The stock open price for 29th Feb is: $ 115.19782909242596\n",
      "The regression coefficient is  0.3284083189321255 , and the constant is  114.86942077349384\n",
      "the relationship equation between dates and prices is: price =  0.3284083189321255 * date +  114.86942077349384\n"
     ]
    }
   ],
   "source": [
    "predicted_price, coefficient, constant = predict_price(dates,prices, np.array([1]).reshape(-1, 1))\n",
    "print(\"The stock open price for 29th Feb is: $\",str(predicted_price))\n",
    "print(\"The regression coefficient is \",str(coefficient),\", and the constant is \", str(constant))\n",
    "print(\"the relationship equation between dates and prices is: price = \",str(coefficient),\"* date + \",str(constant))"
   ]
  },
  {
   "cell_type": "code",
   "execution_count": null,
   "metadata": {},
   "outputs": [],
   "source": []
  }
 ],
 "metadata": {
  "kernelspec": {
   "display_name": "Python 3",
   "language": "python",
   "name": "python3"
  },
  "language_info": {
   "codemirror_mode": {
    "name": "ipython",
    "version": 3
   },
   "file_extension": ".py",
   "mimetype": "text/x-python",
   "name": "python",
   "nbconvert_exporter": "python",
   "pygments_lexer": "ipython3",
   "version": "3.7.3"
  }
 },
 "nbformat": 4,
 "nbformat_minor": 2
}
